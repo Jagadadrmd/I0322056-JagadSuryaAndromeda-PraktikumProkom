{
 "cells": [
  {
   "cell_type": "code",
   "execution_count": 2,
   "metadata": {},
   "outputs": [
    {
     "name": "stdout",
     "output_type": "stream",
     "text": [
      "Jagad Surya Andromeda\n",
      "I0322056\n",
      "B\n"
     ]
    }
   ],
   "source": [
    "print(input(\"Nama: \"))\n",
    "print(input(\"NIM: \"))\n",
    "print(input(\"Kelas: \"))"
   ]
  },
  {
   "attachments": {},
   "cell_type": "markdown",
   "metadata": {},
   "source": [
    "## 1."
   ]
  },
  {
   "attachments": {},
   "cell_type": "markdown",
   "metadata": {},
   "source": [
    "* **A** Hitunglah luas Prisma Segitiga dengan ketentuan sebagai berikut:\n",
    "    * Alas dan tutup prisma merupakan segitiga\n",
    "    * Terdapat 3 persegi panjang yang menyinggung alas dan tutup prisma\n",
    "    * Sisi persegi panjang yang menyinggung segitiga adalah sisi lebar\n",
    "```python\n",
    "    dictionary_figure = {\"Persegi\":{\"Sisi\":22},\n",
    "                        \"Persegi Panjang\":{\"Panjang\":10,\"Lebar\":5},\n",
    "                        \"Segitiga Sama Sisi\":{\"Sisi\":6,\"Tinggi\":3**(1/2) * 3},\n",
    "                        \"Lingkaran\":{\"Diameter\":7}}\n",
    "```\n",
    "* **B** Hitunglah luas Tabung dengan ketentuan sebagai berikut:\n",
    "    * Alas dan tutup tabung merupakan lingkaran\n",
    "    * Terdapat 1 persegi yang menyinggung alas dan tutup tabung\n",
    "    * Persegi yang ada mengelilingi lingkaran hingga sisi dari persegi saling bertemu\n",
    "\n",
    "> **note:** *Pada soal ini kalian hanya boleh menggunakan key-value pair dan index pada list. Tidak diperbolehkan menulis secara langsung dimensi dari figure*"
   ]
  },
  {
   "cell_type": "code",
   "execution_count": 14,
   "metadata": {},
   "outputs": [
    {
     "name": "stdout",
     "output_type": "stream",
     "text": [
      "luas permukaan prisma segitiga adalah 2 * (alas*tinggi/2) + 3 * (panjang*lebar) = 181.18\n",
      "luas permukaan Tabung Lingkaran adalah (phi * (diameter**2)/4) + (phi*diameter*sisi) = 560.93\n"
     ]
    }
   ],
   "source": [
    "dictionary_figure = {\"Persegi\":{\"Sisi\":22},\n",
    "                     \"Persegi Panjang\":{\"Panjang\":10, \"Lebar\":5},\n",
    "                     \"Segitiga Sama Sisi\":{\"Sisi\":6,\"Tinggi\":3**(1/2 * 3)},\n",
    "                     \"Lingkaran\":{\"Diameter\":7}}\n",
    "\n",
    "Segitiga_Sama_Sisi = 1/2*(dictionary_figure[\"Segitiga Sama Sisi\"][\"Sisi\"])*(dictionary_figure[\"Segitiga Sama Sisi\"][\"Tinggi\"])\n",
    "Persegi_Panjang = (dictionary_figure[\"Persegi Panjang\"][\"Panjang\"])*(dictionary_figure[\"Persegi Panjang\"][\"Lebar\"])\n",
    "Persegi = (dictionary_figure[\"Persegi\"][\"Sisi\"])**2\n",
    "lingkaran= 3.14 * (dictionary_figure['Lingkaran']['Diameter'])**2/4\n",
    "\n",
    "hasil1 = 2 * Segitiga_Sama_Sisi + 3 * Persegi_Panjang\n",
    "hasil2 = 2 * lingkaran + Persegi\n",
    "\n",
    "print (\"luas permukaan prisma segitiga adalah 2 * (alas*tinggi/2) + 3 * (panjang*lebar) =\", round(hasil1, 2))\n",
    "print (\"luas permukaan Tabung Lingkaran adalah (phi * (diameter**2)/4) + (phi*diameter*sisi) =\", round(hasil2, 2))"
   ]
  },
  {
   "attachments": {},
   "cell_type": "markdown",
   "metadata": {},
   "source": [
    "## 2."
   ]
  },
  {
   "attachments": {},
   "cell_type": "markdown",
   "metadata": {},
   "source": [
    "Diberikan List sebagai berikut\n",
    "```Python\n",
    "    data = [8, 8, 4, 6, 8, 9, 6, 5, 4, 7]\n",
    "```\n",
    "* Tambahkan 3 angka baru ke dalam list\n",
    "* Tampilkan output list dengan berurutan dari yang terkecil hingga yang terbesar\n",
    "* Tentukan mean, median, dan modus pada list baru"
   ]
  },
  {
   "cell_type": "code",
   "execution_count": 15,
   "metadata": {},
   "outputs": [
    {
     "name": "stdout",
     "output_type": "stream",
     "text": [
      "Urutan list data yang anda miliki dari yang terkecil adalah [1, 1, 4, 4, 5, 6, 6, 7, 8, 8, 8, 9, 10000]\n",
      "('nilai mean pada data yang anda miliki adalah', 774.3846153846154)\n",
      "('nilai median pada data yang anda miliki adalah', 6)\n",
      "('nilai modus pada data yang anda miliki adalah', 8)\n"
     ]
    }
   ],
   "source": [
    "angka1 = int(input(\"masukkan angka pertama\"))\n",
    "angka2 = int(input(\"masukkan angka kedua\"))\n",
    "angka3 = int(input(\"masukkan angka ketiga\"))\n",
    "angka4 = [8, 8, 4, 6, 8, 9, 6, 5, 4, 7]\n",
    "\n",
    "angka5 = [angka1, angka2, angka3]\n",
    "angka4.extend(angka5)\n",
    "angka4.sort()\n",
    "print(\"Urutan list data yang anda miliki dari yang terkecil adalah\", angka4)\n",
    "\n",
    "mean = sum(angka4)/13\n",
    "median = angka4[6]\n",
    "modus = max(angka4, key=angka4.count)\n",
    "print((\"nilai mean pada data yang anda miliki adalah\", mean))\n",
    "print((\"nilai median pada data yang anda miliki adalah\", median))\n",
    "print((\"nilai modus pada data yang anda miliki adalah\", modus))"
   ]
  },
  {
   "attachments": {},
   "cell_type": "markdown",
   "metadata": {},
   "source": [
    "## 3. "
   ]
  },
  {
   "attachments": {},
   "cell_type": "markdown",
   "metadata": {},
   "source": [
    "Dalam pembuatan SIM ada beberapa syarat yang harus dipenuhi bagi para pembuat SIM yaitu:\n",
    "1. Pembuat SIM harus memiliki usia setidaknya 17 tahun\n",
    "2. Pembuat SIM lulus dalam tes kesehatan\n",
    "3. Pembuat SIM lulus dalam uji psikotes\n",
    "4. Pembuat SIM telah mengikuti ujian tertulis dengan nilai setidaknya 70\n",
    "5. Pembuat SIM lulus dalam simulasi berkendara\n",
    "6. Apabila pembuat SIM memiliki surat rekomendasi dari kursus berkendara maka pembuat SIM akan mendapatkan SIM (mengabaikan poin 1-5 apabila poin ke-6 terpenuhi)\n",
    "\n",
    "Buatlah input yang membuat setiap poin menjadi variabel. Output yang dihasilkan merupakan \"True\" apabila pembuat berhak mendapatkan SIM dan \"False\" apabila pembuat tidak berhak mendapatkan SIM.\n",
    "\n",
    "> **note:** *Tidak perlu menggunakan loops dalam membuat programnya*"
   ]
  },
  {
   "cell_type": "code",
   "execution_count": 16,
   "metadata": {},
   "outputs": [
    {
     "name": "stdout",
     "output_type": "stream",
     "text": [
      "maaf, anda tidak lulus\n"
     ]
    }
   ],
   "source": [
    "nama = str(input(\"Masukkan nama anda\"))\n",
    "umur = int(input(\"Berapa usia anda sekarang?\"))\n",
    "sehat = str(input(\"Apakah anda lulus tes kesehatan? (lulus/tidak)\"))\n",
    "psiko = str(input(\"Apakah anda lulus tes psikotes? (lulus/tidak)\"))\n",
    "ujian = float(input(\"Berapa nilai ujian tulis anda?\"))\n",
    "rek = str(input(\"Apakah anda memiliki surat rekomendasi dari kursus? (punya/tidak)\"))\n",
    "\n",
    "hasil = umur >= 17 and sehat == \"lulus\" and psiko == \"lulus\" and ujian >= 70 or rek == \"punya\"\n",
    "if hasil == \"true\":\n",
    "    print(\"Selamat anda mendapatkan SIM\")\n",
    "else:\n",
    "    print(\"maaf, anda tidak lulus\")\n"
   ]
  }
 ],
 "metadata": {
  "kernelspec": {
   "display_name": "Python 3",
   "language": "python",
   "name": "python3"
  },
  "language_info": {
   "codemirror_mode": {
    "name": "ipython",
    "version": 3
   },
   "file_extension": ".py",
   "mimetype": "text/x-python",
   "name": "python",
   "nbconvert_exporter": "python",
   "pygments_lexer": "ipython3",
   "version": "3.10.7"
  },
  "orig_nbformat": 4,
  "vscode": {
   "interpreter": {
    "hash": "5addf786bcd861d1ce5006f23111f8cbb206731e5b61b0a5632ba9e0252558a8"
   }
  }
 },
 "nbformat": 4,
 "nbformat_minor": 2
}
